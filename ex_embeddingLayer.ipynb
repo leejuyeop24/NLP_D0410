{
 "cells": [
  {
   "cell_type": "markdown",
   "id": "01f55270",
   "metadata": {},
   "source": [
    "#### [임베딩 이해]"
   ]
  },
  {
   "cell_type": "code",
   "execution_count": 1,
   "id": "5ca3b1db",
   "metadata": {},
   "outputs": [],
   "source": [
    "## => Embedding : 고차원 피쳐 ==> 저차원\n",
    "## => Pytorch : Embedding Layer 제공\n",
    "##\t  * 고정 길이 : Embedding "
   ]
  },
  {
   "cell_type": "code",
   "execution_count": 5,
   "id": "447d99cf",
   "metadata": {},
   "outputs": [],
   "source": [
    "## 모듈 로딩\n",
    "import torch\n",
    "import torch.nn as nn\n",
    "import torch.optim as optim"
   ]
  },
  {
   "cell_type": "code",
   "execution_count": 6,
   "id": "f7c71403",
   "metadata": {},
   "outputs": [
    {
     "name": "stdout",
     "output_type": "stream",
     "text": [
      "INPUNT => \n",
      "torch.Size([2, 4])\n",
      "INPUNT => \n",
      "torch.Size([2, 4, 2])\n",
      "tensor([[ 0.8788,  1.0020],\n",
      "        [-1.4029,  1.8842],\n",
      "        [-0.0813, -1.0056],\n",
      "        [ 0.8292, -0.6781]], grad_fn=<SelectBackward0>)\n"
     ]
    }
   ],
   "source": [
    "## 임베딩 인스턴스 생성\n",
    "## -Embedding(입력 딘어사전 크기, 임베딩 크기)\n",
    "embedding = nn.Embedding(10, 2)\n",
    "\n",
    "## 임의의 입력 데이터\n",
    "input = torch.LongTensor([[1, 2, 4, 5], [4, 3, 2, 9]])\n",
    "\n",
    "output = embedding(input)\n",
    "print(f'INPUNT => \\n{input.shape}')\n",
    "print(f'INPUNT => \\n{output.shape}')\n",
    "print(output[0])"
   ]
  },
  {
   "cell_type": "code",
   "execution_count": 7,
   "id": "5a127358",
   "metadata": {},
   "outputs": [
    {
     "data": {
      "text/plain": [
       "tensor([[[ 0.0000,  0.0000,  0.0000],\n",
       "         [ 0.6644, -0.1157, -1.9556],\n",
       "         [ 0.0000,  0.0000,  0.0000],\n",
       "         [ 1.1923, -0.8622,  0.2506]]], grad_fn=<EmbeddingBackward0>)"
      ]
     },
     "execution_count": 7,
     "metadata": {},
     "output_type": "execute_result"
    }
   ],
   "source": [
    "# example with padding_idx\n",
    "embedding = nn.Embedding(10, 3, padding_idx=0)\n",
    "input = torch.LongTensor([[0, 2, 0, 5]])\n",
    "embedding(input)"
   ]
  },
  {
   "cell_type": "code",
   "execution_count": 8,
   "id": "3ec157bb",
   "metadata": {},
   "outputs": [
    {
     "data": {
      "text/plain": [
       "Parameter containing:\n",
       "tensor([[ 1.0000,  1.0000,  1.0000],\n",
       "        [-0.4578,  0.5787,  0.6917],\n",
       "        [ 2.2257, -0.5016,  0.6597]], requires_grad=True)"
      ]
     },
     "execution_count": 8,
     "metadata": {},
     "output_type": "execute_result"
    }
   ],
   "source": [
    "# example of changing `pad` vector\n",
    "padding_idx = 0\n",
    "embedding = nn.Embedding(3, 3, padding_idx=padding_idx)\n",
    "embedding.weight\n",
    "with torch.no_grad():\n",
    "    embedding.weight[padding_idx] = torch.ones(3)\n",
    "embedding.weight"
   ]
  }
 ],
 "metadata": {
  "kernelspec": {
   "display_name": "NLP",
   "language": "python",
   "name": "python3"
  },
  "language_info": {
   "codemirror_mode": {
    "name": "ipython",
    "version": 3
   },
   "file_extension": ".py",
   "mimetype": "text/x-python",
   "name": "python",
   "nbconvert_exporter": "python",
   "pygments_lexer": "ipython3",
   "version": "3.8.20"
  }
 },
 "nbformat": 4,
 "nbformat_minor": 5
}
